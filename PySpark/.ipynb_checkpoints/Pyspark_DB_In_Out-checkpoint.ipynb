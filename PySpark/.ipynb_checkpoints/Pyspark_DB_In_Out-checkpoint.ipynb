{
 "cells": [
  {
   "cell_type": "markdown",
   "id": "33ac9f9d-4a0a-4939-ba83-3944c8517a81",
   "metadata": {},
   "source": [
    "###  Importing necessary Dependency"
   ]
  },
  {
   "cell_type": "code",
   "execution_count": 1,
   "id": "f0e2b4ff-668f-4361-ae4b-88fc2d500bf3",
   "metadata": {},
   "outputs": [],
   "source": [
    "from pyspark.sql import SparkSession\n",
    "\n",
    "# the Spark session should be instantiated as follows\n",
    "spark = SparkSession \\\n",
    "    .builder \\\n",
    "    .appName(\"Python Spark SQL basic example\") \\\n",
    "    .config(\"spark.jars\", \"postgresql-42.2.14.jar\") \\\n",
    "    .getOrCreate()"
   ]
  },
  {
   "cell_type": "markdown",
   "id": "58759704-9d10-482c-95d2-5912b92877be",
   "metadata": {},
   "source": [
    "### Connecting to the PostgresDB (Docker)"
   ]
  },
  {
   "cell_type": "code",
   "execution_count": 2,
   "id": "62f0c8de-dd1c-49b5-bf87-58a3b179e718",
   "metadata": {},
   "outputs": [],
   "source": [
    "jdbcDF = spark.read.format(\"jdbc\"). \\\n",
    "options(\n",
    "         url='jdbc:postgresql://localhost:5432/postgres', # jdbc:postgresql://<host>:<port>/<database>\n",
    "         dbtable='loan_accounts',\n",
    "         user='postgres',\n",
    "         password='password',\n",
    "         driver='org.postgresql.Driver').\\\n",
    "load()"
   ]
  },
  {
   "cell_type": "markdown",
   "id": "0d5b01e2-c903-45e6-8914-d6894dc9772f",
   "metadata": {},
   "source": [
    "###  Verifying the import "
   ]
  },
  {
   "cell_type": "code",
   "execution_count": 40,
   "id": "f2b0900b-1e2d-45e2-8000-759d7f0d0318",
   "metadata": {},
   "outputs": [
    {
     "name": "stdout",
     "output_type": "stream",
     "text": [
      "+--------+------+-------+----------+------------+-------------+---------------+-----------------+----------+----------------+--------------+-------------+-----------+\n",
      "| Loan_ID|Gender|Married|Dependents|   Education|Self_Employed|ApplicantIncome|CoapplicantIncome|LoanAmount|Loan_Amount_Term|Credit_History|Property_Area|Loan_Status|\n",
      "+--------+------+-------+----------+------------+-------------+---------------+-----------------+----------+----------------+--------------+-------------+-----------+\n",
      "|LP001003|  Male|    Yes|         1|    Graduate|           No|           4583|           1508.0|     128.0|           360.0|           1.0|        Rural|          N|\n",
      "|LP001005|  Male|    Yes|         0|    Graduate|          Yes|           3000|              0.0|      66.0|           360.0|           1.0|        Urban|          Y|\n",
      "|LP001006|  Male|    Yes|         0|Not Graduate|           No|           2583|           2358.0|     120.0|           360.0|           1.0|        Urban|          Y|\n",
      "|LP001008|  Male|     No|         0|    Graduate|           No|           6000|              0.0|     141.0|           360.0|           1.0|        Urban|          Y|\n",
      "|LP001011|  Male|    Yes|         2|    Graduate|          Yes|           5417|           4196.0|     267.0|           360.0|           1.0|        Urban|          Y|\n",
      "+--------+------+-------+----------+------------+-------------+---------------+-----------------+----------+----------------+--------------+-------------+-----------+\n",
      "only showing top 5 rows\n",
      "\n"
     ]
    }
   ],
   "source": [
    "jdbcDF.show(5)"
   ]
  },
  {
   "cell_type": "markdown",
   "id": "df061342-3eaa-40ef-8259-14a59c1c92aa",
   "metadata": {},
   "source": [
    "### Aggregating the Data Based on the Categories "
   ]
  },
  {
   "cell_type": "code",
   "execution_count": 32,
   "id": "08854b0d-46c1-4621-8ac2-64916c0e22ce",
   "metadata": {},
   "outputs": [],
   "source": [
    "df = jdbcDF.groupBy(\"Gender\",\"Married\",\"Education\").mean('LoanAmount')"
   ]
  },
  {
   "cell_type": "code",
   "execution_count": 34,
   "id": "7dae7d77-73ec-4b8f-8eae-747dc7c3f08c",
   "metadata": {},
   "outputs": [
    {
     "name": "stdout",
     "output_type": "stream",
     "text": [
      "+------+-------+------------+------------------+\n",
      "|Gender|Married|   Education|   avg(LoanAmount)|\n",
      "+------+-------+------------+------------------+\n",
      "|Female|     No|Not Graduate|             105.1|\n",
      "|  Male|    Yes|Not Graduate|125.03333333333333|\n",
      "|  Male|     No|Not Graduate| 99.66666666666667|\n",
      "|  Male|     No|    Graduate|139.92857142857142|\n",
      "|  Male|    Yes|    Graduate|163.02212389380531|\n",
      "|Female|    Yes|    Graduate| 165.1818181818182|\n",
      "|Female|    Yes|Not Graduate|138.66666666666666|\n",
      "|Female|     No|    Graduate|115.31372549019608|\n",
      "+------+-------+------------+------------------+\n",
      "\n"
     ]
    }
   ],
   "source": [
    "df.show()"
   ]
  },
  {
   "cell_type": "markdown",
   "id": "8cf70148-ec81-460f-8083-970b4630cec0",
   "metadata": {},
   "source": [
    "### Dumping the data back to the PostgresDB (Docker)"
   ]
  },
  {
   "cell_type": "code",
   "execution_count": 35,
   "id": "8d44f5d3-0318-4186-a1f5-b60e70f604ae",
   "metadata": {},
   "outputs": [],
   "source": [
    "df.write.format(\"jdbc\").options(driver=\"org.postgresql.Driver\",\n",
    "                                   user=\"postgres\",\n",
    "                                   password=\"password\",\n",
    "                                   url=\"jdbc:postgresql://localhost:5432/postgres\",\n",
    "                                   dbtable=\"loan_by_gender_and_education\"\n",
    "                                   ).save()\n"
   ]
  },
  {
   "cell_type": "markdown",
   "id": "ac45819f-65ff-4844-991c-432a69781b15",
   "metadata": {},
   "source": [
    "### Verfiying If the Data Dump was Succesful"
   ]
  },
  {
   "cell_type": "code",
   "execution_count": 41,
   "id": "50bf639f-85ca-4f57-8f74-714a4c0a0a76",
   "metadata": {},
   "outputs": [],
   "source": [
    "DF = spark.read.format(\"jdbc\"). \\\n",
    "options(\n",
    "         url='jdbc:postgresql://localhost:5432/postgres', # jdbc:postgresql://<host>:<port>/<database>\n",
    "         dbtable='loan_by_gender_and_education',\n",
    "         user='postgres',\n",
    "         password='password',\n",
    "         driver='org.postgresql.Driver').\\\n",
    "load()"
   ]
  },
  {
   "cell_type": "code",
   "execution_count": 42,
   "id": "de7df20c-4b03-4a46-9c52-1ee54ecd800a",
   "metadata": {},
   "outputs": [
    {
     "name": "stdout",
     "output_type": "stream",
     "text": [
      "+------+-------+------------+------------------+\n",
      "|Gender|Married|   Education|   avg(LoanAmount)|\n",
      "+------+-------+------------+------------------+\n",
      "|Female|     No|Not Graduate|             105.1|\n",
      "|  Male|    Yes|Not Graduate|125.03333333333333|\n",
      "|  Male|     No|Not Graduate| 99.66666666666667|\n",
      "|  Male|     No|    Graduate|139.92857142857142|\n",
      "|  Male|    Yes|    Graduate|163.02212389380531|\n",
      "|Female|    Yes|    Graduate| 165.1818181818182|\n",
      "|Female|    Yes|Not Graduate|138.66666666666666|\n",
      "|Female|     No|    Graduate|115.31372549019608|\n",
      "+------+-------+------------+------------------+\n",
      "\n"
     ]
    }
   ],
   "source": [
    "DF.show()"
   ]
  },
  {
   "cell_type": "code",
   "execution_count": null,
   "id": "90dbb4f7-ae7c-454a-882a-c3158b5effb0",
   "metadata": {},
   "outputs": [],
   "source": []
  },
  {
   "cell_type": "code",
   "execution_count": null,
   "id": "c1facbe3-47b1-4d1e-85ff-65b6218a7972",
   "metadata": {},
   "outputs": [],
   "source": []
  },
  {
   "cell_type": "code",
   "execution_count": null,
   "id": "fb7f9a06-40d4-496d-a0de-56bd23b29e58",
   "metadata": {},
   "outputs": [],
   "source": []
  },
  {
   "cell_type": "code",
   "execution_count": null,
   "id": "74d8f149-baab-42a1-b29f-6e1e016a063b",
   "metadata": {},
   "outputs": [],
   "source": []
  },
  {
   "cell_type": "code",
   "execution_count": null,
   "id": "df149185-3183-411f-b583-2fe750c5ab73",
   "metadata": {},
   "outputs": [],
   "source": []
  }
 ],
 "metadata": {
  "kernelspec": {
   "display_name": "Python 3",
   "language": "python",
   "name": "python3"
  },
  "language_info": {
   "codemirror_mode": {
    "name": "ipython",
    "version": 3
   },
   "file_extension": ".py",
   "mimetype": "text/x-python",
   "name": "python",
   "nbconvert_exporter": "python",
   "pygments_lexer": "ipython3",
   "version": "3.8.11"
  },
  "widgets": {
   "application/vnd.jupyter.widget-state+json": {
    "state": {},
    "version_major": 2,
    "version_minor": 0
   }
  }
 },
 "nbformat": 4,
 "nbformat_minor": 5
}
