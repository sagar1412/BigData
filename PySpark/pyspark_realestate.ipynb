{
 "cells": [
  {
   "cell_type": "code",
   "execution_count": 1,
   "id": "c81de3a6",
   "metadata": {},
   "outputs": [],
   "source": [
    "from pyspark.sql import SparkSession"
   ]
  },
  {
   "cell_type": "code",
   "execution_count": 2,
   "id": "47a545af",
   "metadata": {},
   "outputs": [],
   "source": [
    "spark = SparkSession.builder.appName('Python Spark SQL basic example').config('spark.some.config','some-value').getOrCreate()"
   ]
  },
  {
   "cell_type": "code",
   "execution_count": 3,
   "id": "e83f6899",
   "metadata": {},
   "outputs": [],
   "source": [
    "df = spark.read.csv('real_state (1).csv')"
   ]
  },
  {
   "cell_type": "code",
   "execution_count": 4,
   "id": "ffcd6e38",
   "metadata": {},
   "outputs": [
    {
     "data": {
      "text/plain": [
       "<bound method DataFrame.printSchema of DataFrame[_c0: string, _c1: string, _c2: string, _c3: string, _c4: string, _c5: string, _c6: string, _c7: string, _c8: string]>"
      ]
     },
     "execution_count": 4,
     "metadata": {},
     "output_type": "execute_result"
    }
   ],
   "source": [
    "df.printSchema"
   ]
  },
  {
   "cell_type": "code",
   "execution_count": 5,
   "id": "09ea210b",
   "metadata": {},
   "outputs": [
    {
     "name": "stdout",
     "output_type": "stream",
     "text": [
      "+--------------------+--------------+-----+-----+----+-----+------+-----------+------+\n",
      "|                 _c0|           _c1|  _c2|  _c3| _c4|  _c5|   _c6|        _c7|   _c8|\n",
      "+--------------------+--------------+-----+-----+----+-----+------+-----------+------+\n",
      "|              street|          city|  zip|state|beds|baths|sq__ft|       type| price|\n",
      "|        3526 HIGH ST|    SACRAMENTO|95838|   CA|   2|    1|   836|Residential| 59222|\n",
      "|         51 OMAHA CT|    SACRAMENTO|95823|   CA|   3|    1|  1167|Residential| 68212|\n",
      "|      2796 BRANCH ST|    SACRAMENTO|95815|   CA|   2|    1|   796|Residential| 68880|\n",
      "|    2805 JANETTE WAY|    SACRAMENTO|95815|   CA|   2|    1|   852|Residential| 69307|\n",
      "|     6001 MCMAHON DR|    SACRAMENTO|95824|   CA|   2|    1|   797|Residential| 81900|\n",
      "|  5828 PEPPERMILL CT|    SACRAMENTO|95841|   CA|   3|    1|  1122|      Condo| 89921|\n",
      "| 6048 OGDEN NASH WAY|    SACRAMENTO|95842|   CA|   3|    2|  1104|Residential| 90895|\n",
      "|       2561 19TH AVE|    SACRAMENTO|95820|   CA|   3|    1|  1177|Residential| 91002|\n",
      "|11150 TRINITY RIV...|RANCHO CORDOVA|95670|   CA|   2|    2|   941|      Condo| 94905|\n",
      "|        7325 10TH ST|     RIO LINDA|95673|   CA|   3|    2|  1146|Residential| 98937|\n",
      "|    645 MORRISON AVE|    SACRAMENTO|95838|   CA|   3|    2|   909|Residential|100309|\n",
      "|       4085 FAWN CIR|    SACRAMENTO|95823|   CA|   3|    2|  1289|Residential|106250|\n",
      "|     2930 LA ROSA RD|    SACRAMENTO|95815|   CA|   1|    1|   871|Residential|106852|\n",
      "|       2113 KIRK WAY|    SACRAMENTO|95822|   CA|   3|    1|  1020|Residential|107502|\n",
      "| 4533 LOCH HAVEN WAY|    SACRAMENTO|95842|   CA|   2|    2|  1022|Residential|108750|\n",
      "|      7340 HAMDEN PL|    SACRAMENTO|95842|   CA|   2|    2|  1134|      Condo|110700|\n",
      "|         6715 6TH ST|     RIO LINDA|95673|   CA|   2|    1|   844|Residential|113263|\n",
      "|6236 LONGFORD DR ...|CITRUS HEIGHTS|95621|   CA|   2|    1|   795|      Condo|116250|\n",
      "|     250 PERALTA AVE|    SACRAMENTO|95833|   CA|   2|    1|   588|Residential|120000|\n",
      "+--------------------+--------------+-----+-----+----+-----+------+-----------+------+\n",
      "only showing top 20 rows\n",
      "\n"
     ]
    }
   ],
   "source": [
    "df.show()"
   ]
  },
  {
   "cell_type": "code",
   "execution_count": 6,
   "id": "73c5ddd1",
   "metadata": {},
   "outputs": [],
   "source": [
    "# schema = new StructType()\n",
    "#       .add(\"Street\",StringType,true)\n",
    "#       .add(\"City\",StringType,true)\n",
    "#       .add(\"State\",StringType,true)\n",
    "#       .add(\"Zip\",StringType,true)\n",
    "#       .add(\"Beds\",StringType,true)\n",
    "#       .add(\"Baths\",StringType,true)\n",
    "#       .add(\"Sq_feet\",StringType,true)\n",
    "#       .add(\"flat_type\",StringType,true)\n",
    "#       .add(\"Price\",StringType,true)"
   ]
  },
  {
   "cell_type": "code",
   "execution_count": 11,
   "id": "e981cddb",
   "metadata": {},
   "outputs": [],
   "source": [
    "df_with_schema = spark.read.format(\"csv\")\\\n",
    "      .option(\"header\", \"true\").load(\"real_state (1).csv\")\n",
    "      #.schema(schema)"
   ]
  },
  {
   "cell_type": "code",
   "execution_count": 12,
   "id": "67435736",
   "metadata": {},
   "outputs": [],
   "source": [
    "df2 = spark.read.option(\"header\",True).csv(\"real_state (1).csv\")"
   ]
  },
  {
   "cell_type": "code",
   "execution_count": 13,
   "id": "205ccda6",
   "metadata": {},
   "outputs": [
    {
     "name": "stdout",
     "output_type": "stream",
     "text": [
      "root\n",
      " |-- street: string (nullable = true)\n",
      " |-- city: string (nullable = true)\n",
      " |-- zip: string (nullable = true)\n",
      " |-- state: string (nullable = true)\n",
      " |-- beds: string (nullable = true)\n",
      " |-- baths: string (nullable = true)\n",
      " |-- sq__ft: string (nullable = true)\n",
      " |-- type: string (nullable = true)\n",
      " |-- price: string (nullable = true)\n",
      "\n"
     ]
    }
   ],
   "source": [
    "df2.printSchema()"
   ]
  },
  {
   "cell_type": "code",
   "execution_count": 14,
   "id": "d9bd4987",
   "metadata": {},
   "outputs": [
    {
     "name": "stdout",
     "output_type": "stream",
     "text": [
      "+--------------------+--------------+-----+-----+----+-----+------+-----------+------+\n",
      "|              street|          city|  zip|state|beds|baths|sq__ft|       type| price|\n",
      "+--------------------+--------------+-----+-----+----+-----+------+-----------+------+\n",
      "|        3526 HIGH ST|    SACRAMENTO|95838|   CA|   2|    1|   836|Residential| 59222|\n",
      "|         51 OMAHA CT|    SACRAMENTO|95823|   CA|   3|    1|  1167|Residential| 68212|\n",
      "|      2796 BRANCH ST|    SACRAMENTO|95815|   CA|   2|    1|   796|Residential| 68880|\n",
      "|    2805 JANETTE WAY|    SACRAMENTO|95815|   CA|   2|    1|   852|Residential| 69307|\n",
      "|     6001 MCMAHON DR|    SACRAMENTO|95824|   CA|   2|    1|   797|Residential| 81900|\n",
      "|  5828 PEPPERMILL CT|    SACRAMENTO|95841|   CA|   3|    1|  1122|      Condo| 89921|\n",
      "| 6048 OGDEN NASH WAY|    SACRAMENTO|95842|   CA|   3|    2|  1104|Residential| 90895|\n",
      "|       2561 19TH AVE|    SACRAMENTO|95820|   CA|   3|    1|  1177|Residential| 91002|\n",
      "|11150 TRINITY RIV...|RANCHO CORDOVA|95670|   CA|   2|    2|   941|      Condo| 94905|\n",
      "|        7325 10TH ST|     RIO LINDA|95673|   CA|   3|    2|  1146|Residential| 98937|\n",
      "|    645 MORRISON AVE|    SACRAMENTO|95838|   CA|   3|    2|   909|Residential|100309|\n",
      "|       4085 FAWN CIR|    SACRAMENTO|95823|   CA|   3|    2|  1289|Residential|106250|\n",
      "|     2930 LA ROSA RD|    SACRAMENTO|95815|   CA|   1|    1|   871|Residential|106852|\n",
      "|       2113 KIRK WAY|    SACRAMENTO|95822|   CA|   3|    1|  1020|Residential|107502|\n",
      "| 4533 LOCH HAVEN WAY|    SACRAMENTO|95842|   CA|   2|    2|  1022|Residential|108750|\n",
      "|      7340 HAMDEN PL|    SACRAMENTO|95842|   CA|   2|    2|  1134|      Condo|110700|\n",
      "|         6715 6TH ST|     RIO LINDA|95673|   CA|   2|    1|   844|Residential|113263|\n",
      "|6236 LONGFORD DR ...|CITRUS HEIGHTS|95621|   CA|   2|    1|   795|      Condo|116250|\n",
      "|     250 PERALTA AVE|    SACRAMENTO|95833|   CA|   2|    1|   588|Residential|120000|\n",
      "|     113 LEEWILL AVE|     RIO LINDA|95673|   CA|   3|    2|  1356|Residential|121630|\n",
      "+--------------------+--------------+-----+-----+----+-----+------+-----------+------+\n",
      "only showing top 20 rows\n",
      "\n"
     ]
    }
   ],
   "source": [
    "df2.show()"
   ]
  },
  {
   "cell_type": "code",
   "execution_count": 15,
   "id": "d624b5c3",
   "metadata": {},
   "outputs": [],
   "source": [
    "from pyspark.sql.types import StructType,StructField, StringType, IntegerType "
   ]
  },
  {
   "cell_type": "code",
   "execution_count": 16,
   "id": "cb7bd71e",
   "metadata": {},
   "outputs": [],
   "source": [
    "schema = StructType() \\\n",
    "      .add(\"street\",StringType(),True) \\\n",
    "      .add(\"city\",StringType(),True) \\\n",
    "      .add(\"zip\",StringType(),True) \\\n",
    "      .add(\"state\",StringType(),True) \\\n",
    "      .add(\"beds\",IntegerType(),True) \\\n",
    "      .add(\"baths\",IntegerType(),True) \\\n",
    "      .add(\"sq_ft\",IntegerType(),True) \\\n",
    "      .add(\"type\",StringType(),True) \\\n",
    "      .add(\"price\",IntegerType(),True)"
   ]
  },
  {
   "cell_type": "code",
   "execution_count": 17,
   "id": "e67bafac",
   "metadata": {},
   "outputs": [],
   "source": [
    "df_with_schema = spark.read.format(\"csv\") \\\n",
    "      .option(\"header\", True) \\\n",
    "      .schema(schema) \\\n",
    "      .load(\"real_state (1).csv\")"
   ]
  },
  {
   "cell_type": "code",
   "execution_count": 18,
   "id": "398a4edf",
   "metadata": {},
   "outputs": [
    {
     "name": "stdout",
     "output_type": "stream",
     "text": [
      "root\n",
      " |-- street: string (nullable = true)\n",
      " |-- city: string (nullable = true)\n",
      " |-- zip: string (nullable = true)\n",
      " |-- state: string (nullable = true)\n",
      " |-- beds: integer (nullable = true)\n",
      " |-- baths: integer (nullable = true)\n",
      " |-- sq_ft: integer (nullable = true)\n",
      " |-- type: string (nullable = true)\n",
      " |-- price: integer (nullable = true)\n",
      "\n"
     ]
    }
   ],
   "source": [
    "df_with_schema.printSchema()"
   ]
  },
  {
   "cell_type": "code",
   "execution_count": 19,
   "id": "e0735d55",
   "metadata": {},
   "outputs": [
    {
     "name": "stdout",
     "output_type": "stream",
     "text": [
      "+--------------------+--------------+-----+-----+----+-----+-----+-----------+------+\n",
      "|              street|          city|  zip|state|beds|baths|sq_ft|       type| price|\n",
      "+--------------------+--------------+-----+-----+----+-----+-----+-----------+------+\n",
      "|        3526 HIGH ST|    SACRAMENTO|95838|   CA|   2|    1|  836|Residential| 59222|\n",
      "|         51 OMAHA CT|    SACRAMENTO|95823|   CA|   3|    1| 1167|Residential| 68212|\n",
      "|      2796 BRANCH ST|    SACRAMENTO|95815|   CA|   2|    1|  796|Residential| 68880|\n",
      "|    2805 JANETTE WAY|    SACRAMENTO|95815|   CA|   2|    1|  852|Residential| 69307|\n",
      "|     6001 MCMAHON DR|    SACRAMENTO|95824|   CA|   2|    1|  797|Residential| 81900|\n",
      "|  5828 PEPPERMILL CT|    SACRAMENTO|95841|   CA|   3|    1| 1122|      Condo| 89921|\n",
      "| 6048 OGDEN NASH WAY|    SACRAMENTO|95842|   CA|   3|    2| 1104|Residential| 90895|\n",
      "|       2561 19TH AVE|    SACRAMENTO|95820|   CA|   3|    1| 1177|Residential| 91002|\n",
      "|11150 TRINITY RIV...|RANCHO CORDOVA|95670|   CA|   2|    2|  941|      Condo| 94905|\n",
      "|        7325 10TH ST|     RIO LINDA|95673|   CA|   3|    2| 1146|Residential| 98937|\n",
      "|    645 MORRISON AVE|    SACRAMENTO|95838|   CA|   3|    2|  909|Residential|100309|\n",
      "|       4085 FAWN CIR|    SACRAMENTO|95823|   CA|   3|    2| 1289|Residential|106250|\n",
      "|     2930 LA ROSA RD|    SACRAMENTO|95815|   CA|   1|    1|  871|Residential|106852|\n",
      "|       2113 KIRK WAY|    SACRAMENTO|95822|   CA|   3|    1| 1020|Residential|107502|\n",
      "| 4533 LOCH HAVEN WAY|    SACRAMENTO|95842|   CA|   2|    2| 1022|Residential|108750|\n",
      "|      7340 HAMDEN PL|    SACRAMENTO|95842|   CA|   2|    2| 1134|      Condo|110700|\n",
      "|         6715 6TH ST|     RIO LINDA|95673|   CA|   2|    1|  844|Residential|113263|\n",
      "|6236 LONGFORD DR ...|CITRUS HEIGHTS|95621|   CA|   2|    1|  795|      Condo|116250|\n",
      "|     250 PERALTA AVE|    SACRAMENTO|95833|   CA|   2|    1|  588|Residential|120000|\n",
      "|     113 LEEWILL AVE|     RIO LINDA|95673|   CA|   3|    2| 1356|Residential|121630|\n",
      "+--------------------+--------------+-----+-----+----+-----+-----+-----------+------+\n",
      "only showing top 20 rows\n",
      "\n"
     ]
    }
   ],
   "source": [
    "df_with_schema.show()"
   ]
  },
  {
   "cell_type": "code",
   "execution_count": 20,
   "id": "161ec5a8",
   "metadata": {},
   "outputs": [
    {
     "name": "stdout",
     "output_type": "stream",
     "text": [
      "+--------------------+--------------+------+\n",
      "|              street|          city| price|\n",
      "+--------------------+--------------+------+\n",
      "|        3526 HIGH ST|    SACRAMENTO| 59222|\n",
      "|         51 OMAHA CT|    SACRAMENTO| 68212|\n",
      "|      2796 BRANCH ST|    SACRAMENTO| 68880|\n",
      "|    2805 JANETTE WAY|    SACRAMENTO| 69307|\n",
      "|     6001 MCMAHON DR|    SACRAMENTO| 81900|\n",
      "|  5828 PEPPERMILL CT|    SACRAMENTO| 89921|\n",
      "| 6048 OGDEN NASH WAY|    SACRAMENTO| 90895|\n",
      "|       2561 19TH AVE|    SACRAMENTO| 91002|\n",
      "|11150 TRINITY RIV...|RANCHO CORDOVA| 94905|\n",
      "|        7325 10TH ST|     RIO LINDA| 98937|\n",
      "|    645 MORRISON AVE|    SACRAMENTO|100309|\n",
      "|       4085 FAWN CIR|    SACRAMENTO|106250|\n",
      "|     2930 LA ROSA RD|    SACRAMENTO|106852|\n",
      "|       2113 KIRK WAY|    SACRAMENTO|107502|\n",
      "| 4533 LOCH HAVEN WAY|    SACRAMENTO|108750|\n",
      "|      7340 HAMDEN PL|    SACRAMENTO|110700|\n",
      "|         6715 6TH ST|     RIO LINDA|113263|\n",
      "|6236 LONGFORD DR ...|CITRUS HEIGHTS|116250|\n",
      "|     250 PERALTA AVE|    SACRAMENTO|120000|\n",
      "|     113 LEEWILL AVE|     RIO LINDA|121630|\n",
      "+--------------------+--------------+------+\n",
      "only showing top 20 rows\n",
      "\n"
     ]
    }
   ],
   "source": [
    "test = df_with_schema.select(df_with_schema['street'],df_with_schema['city'],df_with_schema['price'])\n",
    "test.show()"
   ]
  },
  {
   "cell_type": "code",
   "execution_count": 21,
   "id": "b46f8d84",
   "metadata": {},
   "outputs": [],
   "source": [
    "test.write.option(\"header\",True).csv(\"result1.csv\")"
   ]
  },
  {
   "cell_type": "code",
   "execution_count": 22,
   "id": "27131705",
   "metadata": {},
   "outputs": [],
   "source": [
    "test.write.option(\"header\",True).parquet(\"result1.parquet\")"
   ]
  },
  {
   "cell_type": "code",
   "execution_count": 23,
   "id": "638c40a1",
   "metadata": {},
   "outputs": [],
   "source": [
    "df3 = spark.read.parquet('result1.parquet')"
   ]
  },
  {
   "cell_type": "code",
   "execution_count": 24,
   "id": "eff7bc7d",
   "metadata": {},
   "outputs": [
    {
     "name": "stdout",
     "output_type": "stream",
     "text": [
      "+--------------------+--------------+------+\n",
      "|              street|          city| price|\n",
      "+--------------------+--------------+------+\n",
      "|        3526 HIGH ST|    SACRAMENTO| 59222|\n",
      "|         51 OMAHA CT|    SACRAMENTO| 68212|\n",
      "|      2796 BRANCH ST|    SACRAMENTO| 68880|\n",
      "|    2805 JANETTE WAY|    SACRAMENTO| 69307|\n",
      "|     6001 MCMAHON DR|    SACRAMENTO| 81900|\n",
      "|  5828 PEPPERMILL CT|    SACRAMENTO| 89921|\n",
      "| 6048 OGDEN NASH WAY|    SACRAMENTO| 90895|\n",
      "|       2561 19TH AVE|    SACRAMENTO| 91002|\n",
      "|11150 TRINITY RIV...|RANCHO CORDOVA| 94905|\n",
      "|        7325 10TH ST|     RIO LINDA| 98937|\n",
      "|    645 MORRISON AVE|    SACRAMENTO|100309|\n",
      "|       4085 FAWN CIR|    SACRAMENTO|106250|\n",
      "|     2930 LA ROSA RD|    SACRAMENTO|106852|\n",
      "|       2113 KIRK WAY|    SACRAMENTO|107502|\n",
      "| 4533 LOCH HAVEN WAY|    SACRAMENTO|108750|\n",
      "|      7340 HAMDEN PL|    SACRAMENTO|110700|\n",
      "|         6715 6TH ST|     RIO LINDA|113263|\n",
      "|6236 LONGFORD DR ...|CITRUS HEIGHTS|116250|\n",
      "|     250 PERALTA AVE|    SACRAMENTO|120000|\n",
      "|     113 LEEWILL AVE|     RIO LINDA|121630|\n",
      "+--------------------+--------------+------+\n",
      "only showing top 20 rows\n",
      "\n"
     ]
    }
   ],
   "source": [
    "df3.show()"
   ]
  },
  {
   "cell_type": "code",
   "execution_count": 25,
   "id": "86b6a3fb",
   "metadata": {},
   "outputs": [],
   "source": [
    "#df2.write.mode('overwrite').csv(\"real_state (1).csv\")\n",
    "#you can also use this\n",
    "df3.write.format(\"csv\").mode('append').save(\"result1.csv\")"
   ]
  },
  {
   "cell_type": "code",
   "execution_count": null,
   "id": "7fc16fc8",
   "metadata": {},
   "outputs": [],
   "source": []
  }
 ],
 "metadata": {
  "kernelspec": {
   "display_name": "Python 3",
   "language": "python",
   "name": "python3"
  },
  "language_info": {
   "codemirror_mode": {
    "name": "ipython",
    "version": 3
   },
   "file_extension": ".py",
   "mimetype": "text/x-python",
   "name": "python",
   "nbconvert_exporter": "python",
   "pygments_lexer": "ipython3",
   "version": "3.8.11"
  },
  "widgets": {
   "application/vnd.jupyter.widget-state+json": {
    "state": {},
    "version_major": 2,
    "version_minor": 0
   }
  }
 },
 "nbformat": 4,
 "nbformat_minor": 5
}
